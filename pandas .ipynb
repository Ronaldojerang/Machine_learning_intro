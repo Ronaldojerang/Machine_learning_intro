{
 "cells": [
  {
   "cell_type": "code",
   "execution_count": 14,
   "id": "61ec4904",
   "metadata": {},
   "outputs": [],
   "source": [
    "import pandas as pd\n",
    "import numpy as np"
   ]
  },
  {
   "cell_type": "code",
   "execution_count": 21,
   "id": "c830c700",
   "metadata": {},
   "outputs": [],
   "source": [
    "data = np.random.randint(1,100,10)"
   ]
  },
  {
   "cell_type": "code",
   "execution_count": 22,
   "id": "ca1d4eb7",
   "metadata": {},
   "outputs": [
    {
     "data": {
      "text/plain": [
       "array([24, 45, 98, 45,  1, 86, 65, 72, 10, 93])"
      ]
     },
     "execution_count": 22,
     "metadata": {},
     "output_type": "execute_result"
    }
   ],
   "source": [
    "data"
   ]
  },
  {
   "cell_type": "code",
   "execution_count": 23,
   "id": "5e2da14a",
   "metadata": {},
   "outputs": [],
   "source": [
    "ser = pd.Series(data = data)"
   ]
  },
  {
   "cell_type": "code",
   "execution_count": 24,
   "id": "d36f37aa",
   "metadata": {},
   "outputs": [
    {
     "data": {
      "text/plain": [
       "0    24\n",
       "1    45\n",
       "2    98\n",
       "3    45\n",
       "4     1\n",
       "5    86\n",
       "6    65\n",
       "7    72\n",
       "8    10\n",
       "9    93\n",
       "dtype: int64"
      ]
     },
     "execution_count": 24,
     "metadata": {},
     "output_type": "execute_result"
    }
   ],
   "source": [
    "ser "
   ]
  },
  {
   "cell_type": "code",
   "execution_count": 25,
   "id": "c69ff63c",
   "metadata": {},
   "outputs": [],
   "source": [
    "l = [234,4,23,2]"
   ]
  },
  {
   "cell_type": "code",
   "execution_count": 27,
   "id": "17143254",
   "metadata": {},
   "outputs": [],
   "source": [
    "p = pd.Series(data =l,index=['run','time','class','person'])"
   ]
  },
  {
   "cell_type": "code",
   "execution_count": 28,
   "id": "4a66ba12",
   "metadata": {},
   "outputs": [
    {
     "data": {
      "text/plain": [
       "run       234\n",
       "time        4\n",
       "class      23\n",
       "person      2\n",
       "dtype: int64"
      ]
     },
     "execution_count": 28,
     "metadata": {},
     "output_type": "execute_result"
    }
   ],
   "source": [
    "p"
   ]
  },
  {
   "cell_type": "code",
   "execution_count": 37,
   "id": "af168ac1",
   "metadata": {},
   "outputs": [
    {
     "data": {
      "text/plain": [
       "4"
      ]
     },
     "execution_count": 37,
     "metadata": {},
     "output_type": "execute_result"
    }
   ],
   "source": [
    "# can call any using array\n",
    "#example\n",
    "p['time']\n"
   ]
  },
  {
   "cell_type": "code",
   "execution_count": 38,
   "id": "51679ea8",
   "metadata": {},
   "outputs": [
    {
     "data": {
      "text/plain": [
       "234"
      ]
     },
     "execution_count": 38,
     "metadata": {},
     "output_type": "execute_result"
    }
   ],
   "source": [
    "p[0]"
   ]
  },
  {
   "cell_type": "code",
   "execution_count": 40,
   "id": "db297dd7",
   "metadata": {},
   "outputs": [],
   "source": [
    "rd = np.random.randint(1,100,(4,9))"
   ]
  },
  {
   "cell_type": "code",
   "execution_count": 41,
   "id": "da5421a7",
   "metadata": {},
   "outputs": [
    {
     "data": {
      "text/plain": [
       "array([[70, 79, 32, 17, 21, 88, 77, 41, 26],\n",
       "       [ 9, 65, 85, 82, 97, 67, 54, 76, 88],\n",
       "       [33, 62, 14, 48, 84, 14, 72, 80, 35],\n",
       "       [ 9, 66, 96, 79, 30, 54, 32, 79, 72]])"
      ]
     },
     "execution_count": 41,
     "metadata": {},
     "output_type": "execute_result"
    }
   ],
   "source": [
    "rd"
   ]
  },
  {
   "cell_type": "code",
   "execution_count": 44,
   "id": "90ca655a",
   "metadata": {},
   "outputs": [
    {
     "data": {
      "text/html": [
       "<div>\n",
       "<style scoped>\n",
       "    .dataframe tbody tr th:only-of-type {\n",
       "        vertical-align: middle;\n",
       "    }\n",
       "\n",
       "    .dataframe tbody tr th {\n",
       "        vertical-align: top;\n",
       "    }\n",
       "\n",
       "    .dataframe thead th {\n",
       "        text-align: right;\n",
       "    }\n",
       "</style>\n",
       "<table border=\"1\" class=\"dataframe\">\n",
       "  <thead>\n",
       "    <tr style=\"text-align: right;\">\n",
       "      <th></th>\n",
       "      <th>0</th>\n",
       "      <th>1</th>\n",
       "      <th>2</th>\n",
       "      <th>3</th>\n",
       "      <th>4</th>\n",
       "      <th>5</th>\n",
       "      <th>6</th>\n",
       "      <th>7</th>\n",
       "      <th>8</th>\n",
       "    </tr>\n",
       "  </thead>\n",
       "  <tbody>\n",
       "    <tr>\n",
       "      <th>0</th>\n",
       "      <td>70</td>\n",
       "      <td>79</td>\n",
       "      <td>32</td>\n",
       "      <td>17</td>\n",
       "      <td>21</td>\n",
       "      <td>88</td>\n",
       "      <td>77</td>\n",
       "      <td>41</td>\n",
       "      <td>26</td>\n",
       "    </tr>\n",
       "    <tr>\n",
       "      <th>1</th>\n",
       "      <td>9</td>\n",
       "      <td>65</td>\n",
       "      <td>85</td>\n",
       "      <td>82</td>\n",
       "      <td>97</td>\n",
       "      <td>67</td>\n",
       "      <td>54</td>\n",
       "      <td>76</td>\n",
       "      <td>88</td>\n",
       "    </tr>\n",
       "    <tr>\n",
       "      <th>2</th>\n",
       "      <td>33</td>\n",
       "      <td>62</td>\n",
       "      <td>14</td>\n",
       "      <td>48</td>\n",
       "      <td>84</td>\n",
       "      <td>14</td>\n",
       "      <td>72</td>\n",
       "      <td>80</td>\n",
       "      <td>35</td>\n",
       "    </tr>\n",
       "    <tr>\n",
       "      <th>3</th>\n",
       "      <td>9</td>\n",
       "      <td>66</td>\n",
       "      <td>96</td>\n",
       "      <td>79</td>\n",
       "      <td>30</td>\n",
       "      <td>54</td>\n",
       "      <td>32</td>\n",
       "      <td>79</td>\n",
       "      <td>72</td>\n",
       "    </tr>\n",
       "  </tbody>\n",
       "</table>\n",
       "</div>"
      ],
      "text/plain": [
       "    0   1   2   3   4   5   6   7   8\n",
       "0  70  79  32  17  21  88  77  41  26\n",
       "1   9  65  85  82  97  67  54  76  88\n",
       "2  33  62  14  48  84  14  72  80  35\n",
       "3   9  66  96  79  30  54  32  79  72"
      ]
     },
     "execution_count": 44,
     "metadata": {},
     "output_type": "execute_result"
    }
   ],
   "source": [
    "pd.DataFrame(data=rd)#DataFrame a common representation"
   ]
  },
  {
   "cell_type": "code",
   "execution_count": 46,
   "id": "8baafbed",
   "metadata": {},
   "outputs": [],
   "source": [
    "home = pd.DataFrame(data=rd,columns=['o','q','w','e','r','t','y','u','h'],index=['wish','ki','dfa','win'])"
   ]
  },
  {
   "cell_type": "code",
   "execution_count": 47,
   "id": "3fe5bb84",
   "metadata": {},
   "outputs": [
    {
     "data": {
      "text/html": [
       "<div>\n",
       "<style scoped>\n",
       "    .dataframe tbody tr th:only-of-type {\n",
       "        vertical-align: middle;\n",
       "    }\n",
       "\n",
       "    .dataframe tbody tr th {\n",
       "        vertical-align: top;\n",
       "    }\n",
       "\n",
       "    .dataframe thead th {\n",
       "        text-align: right;\n",
       "    }\n",
       "</style>\n",
       "<table border=\"1\" class=\"dataframe\">\n",
       "  <thead>\n",
       "    <tr style=\"text-align: right;\">\n",
       "      <th></th>\n",
       "      <th>o</th>\n",
       "      <th>q</th>\n",
       "      <th>w</th>\n",
       "      <th>e</th>\n",
       "      <th>r</th>\n",
       "      <th>t</th>\n",
       "      <th>y</th>\n",
       "      <th>u</th>\n",
       "      <th>h</th>\n",
       "    </tr>\n",
       "  </thead>\n",
       "  <tbody>\n",
       "    <tr>\n",
       "      <th>wish</th>\n",
       "      <td>70</td>\n",
       "      <td>79</td>\n",
       "      <td>32</td>\n",
       "      <td>17</td>\n",
       "      <td>21</td>\n",
       "      <td>88</td>\n",
       "      <td>77</td>\n",
       "      <td>41</td>\n",
       "      <td>26</td>\n",
       "    </tr>\n",
       "    <tr>\n",
       "      <th>ki</th>\n",
       "      <td>9</td>\n",
       "      <td>65</td>\n",
       "      <td>85</td>\n",
       "      <td>82</td>\n",
       "      <td>97</td>\n",
       "      <td>67</td>\n",
       "      <td>54</td>\n",
       "      <td>76</td>\n",
       "      <td>88</td>\n",
       "    </tr>\n",
       "    <tr>\n",
       "      <th>dfa</th>\n",
       "      <td>33</td>\n",
       "      <td>62</td>\n",
       "      <td>14</td>\n",
       "      <td>48</td>\n",
       "      <td>84</td>\n",
       "      <td>14</td>\n",
       "      <td>72</td>\n",
       "      <td>80</td>\n",
       "      <td>35</td>\n",
       "    </tr>\n",
       "    <tr>\n",
       "      <th>win</th>\n",
       "      <td>9</td>\n",
       "      <td>66</td>\n",
       "      <td>96</td>\n",
       "      <td>79</td>\n",
       "      <td>30</td>\n",
       "      <td>54</td>\n",
       "      <td>32</td>\n",
       "      <td>79</td>\n",
       "      <td>72</td>\n",
       "    </tr>\n",
       "  </tbody>\n",
       "</table>\n",
       "</div>"
      ],
      "text/plain": [
       "       o   q   w   e   r   t   y   u   h\n",
       "wish  70  79  32  17  21  88  77  41  26\n",
       "ki     9  65  85  82  97  67  54  76  88\n",
       "dfa   33  62  14  48  84  14  72  80  35\n",
       "win    9  66  96  79  30  54  32  79  72"
      ]
     },
     "execution_count": 47,
     "metadata": {},
     "output_type": "execute_result"
    }
   ],
   "source": [
    "home"
   ]
  },
  {
   "cell_type": "code",
   "execution_count": 50,
   "id": "57f1070f",
   "metadata": {},
   "outputs": [
    {
     "data": {
      "text/plain": [
       "Index(['o', 'q', 'w', 'e', 'r', 't', 'y', 'u', 'h'], dtype='object')"
      ]
     },
     "execution_count": 50,
     "metadata": {},
     "output_type": "execute_result"
    }
   ],
   "source": [
    "home.columns#calling column n columns\n"
   ]
  },
  {
   "cell_type": "code",
   "execution_count": 51,
   "id": "d47472c3",
   "metadata": {},
   "outputs": [
    {
     "data": {
      "text/plain": [
       "Index(['wish', 'ki', 'dfa', 'win'], dtype='object')"
      ]
     },
     "execution_count": 51,
     "metadata": {},
     "output_type": "execute_result"
    }
   ],
   "source": [
    "home.index#calling column n index"
   ]
  },
  {
   "cell_type": "code",
   "execution_count": 53,
   "id": "c10b6497",
   "metadata": {},
   "outputs": [
    {
     "data": {
      "text/html": [
       "<div>\n",
       "<style scoped>\n",
       "    .dataframe tbody tr th:only-of-type {\n",
       "        vertical-align: middle;\n",
       "    }\n",
       "\n",
       "    .dataframe tbody tr th {\n",
       "        vertical-align: top;\n",
       "    }\n",
       "\n",
       "    .dataframe thead th {\n",
       "        text-align: right;\n",
       "    }\n",
       "</style>\n",
       "<table border=\"1\" class=\"dataframe\">\n",
       "  <thead>\n",
       "    <tr style=\"text-align: right;\">\n",
       "      <th></th>\n",
       "      <th>o</th>\n",
       "      <th>q</th>\n",
       "      <th>w</th>\n",
       "      <th>e</th>\n",
       "      <th>r</th>\n",
       "      <th>t</th>\n",
       "      <th>y</th>\n",
       "      <th>u</th>\n",
       "      <th>h</th>\n",
       "    </tr>\n",
       "  </thead>\n",
       "  <tbody>\n",
       "    <tr>\n",
       "      <th>wish</th>\n",
       "      <td>70</td>\n",
       "      <td>79</td>\n",
       "      <td>32</td>\n",
       "      <td>17</td>\n",
       "      <td>21</td>\n",
       "      <td>88</td>\n",
       "      <td>77</td>\n",
       "      <td>41</td>\n",
       "      <td>26</td>\n",
       "    </tr>\n",
       "    <tr>\n",
       "      <th>ki</th>\n",
       "      <td>9</td>\n",
       "      <td>65</td>\n",
       "      <td>85</td>\n",
       "      <td>82</td>\n",
       "      <td>97</td>\n",
       "      <td>67</td>\n",
       "      <td>54</td>\n",
       "      <td>76</td>\n",
       "      <td>88</td>\n",
       "    </tr>\n",
       "    <tr>\n",
       "      <th>dfa</th>\n",
       "      <td>33</td>\n",
       "      <td>62</td>\n",
       "      <td>14</td>\n",
       "      <td>48</td>\n",
       "      <td>84</td>\n",
       "      <td>14</td>\n",
       "      <td>72</td>\n",
       "      <td>80</td>\n",
       "      <td>35</td>\n",
       "    </tr>\n",
       "  </tbody>\n",
       "</table>\n",
       "</div>"
      ],
      "text/plain": [
       "       o   q   w   e   r   t   y   u   h\n",
       "wish  70  79  32  17  21  88  77  41  26\n",
       "ki     9  65  85  82  97  67  54  76  88\n",
       "dfa   33  62  14  48  84  14  72  80  35"
      ]
     },
     "execution_count": 53,
     "metadata": {},
     "output_type": "execute_result"
    }
   ],
   "source": [
    "home.head(3)#can call index from top as u wish"
   ]
  },
  {
   "cell_type": "code",
   "execution_count": 55,
   "id": "97a6f7ab",
   "metadata": {},
   "outputs": [
    {
     "data": {
      "text/html": [
       "<div>\n",
       "<style scoped>\n",
       "    .dataframe tbody tr th:only-of-type {\n",
       "        vertical-align: middle;\n",
       "    }\n",
       "\n",
       "    .dataframe tbody tr th {\n",
       "        vertical-align: top;\n",
       "    }\n",
       "\n",
       "    .dataframe thead th {\n",
       "        text-align: right;\n",
       "    }\n",
       "</style>\n",
       "<table border=\"1\" class=\"dataframe\">\n",
       "  <thead>\n",
       "    <tr style=\"text-align: right;\">\n",
       "      <th></th>\n",
       "      <th>o</th>\n",
       "      <th>q</th>\n",
       "      <th>w</th>\n",
       "      <th>e</th>\n",
       "      <th>r</th>\n",
       "      <th>t</th>\n",
       "      <th>y</th>\n",
       "      <th>u</th>\n",
       "      <th>h</th>\n",
       "    </tr>\n",
       "  </thead>\n",
       "  <tbody>\n",
       "    <tr>\n",
       "      <th>dfa</th>\n",
       "      <td>33</td>\n",
       "      <td>62</td>\n",
       "      <td>14</td>\n",
       "      <td>48</td>\n",
       "      <td>84</td>\n",
       "      <td>14</td>\n",
       "      <td>72</td>\n",
       "      <td>80</td>\n",
       "      <td>35</td>\n",
       "    </tr>\n",
       "    <tr>\n",
       "      <th>win</th>\n",
       "      <td>9</td>\n",
       "      <td>66</td>\n",
       "      <td>96</td>\n",
       "      <td>79</td>\n",
       "      <td>30</td>\n",
       "      <td>54</td>\n",
       "      <td>32</td>\n",
       "      <td>79</td>\n",
       "      <td>72</td>\n",
       "    </tr>\n",
       "  </tbody>\n",
       "</table>\n",
       "</div>"
      ],
      "text/plain": [
       "      o   q   w   e   r   t   y   u   h\n",
       "dfa  33  62  14  48  84  14  72  80  35\n",
       "win   9  66  96  79  30  54  32  79  72"
      ]
     },
     "execution_count": 55,
     "metadata": {},
     "output_type": "execute_result"
    }
   ],
   "source": [
    "home.tail(2)# can call index from bottom"
   ]
  },
  {
   "cell_type": "code",
   "execution_count": 56,
   "id": "51a721b4",
   "metadata": {},
   "outputs": [
    {
     "data": {
      "text/plain": [
       "<bound method DataFrame.info of        o   q   w   e   r   t   y   u   h\n",
       "wish  70  79  32  17  21  88  77  41  26\n",
       "ki     9  65  85  82  97  67  54  76  88\n",
       "dfa   33  62  14  48  84  14  72  80  35\n",
       "win    9  66  96  79  30  54  32  79  72>"
      ]
     },
     "execution_count": 56,
     "metadata": {},
     "output_type": "execute_result"
    }
   ],
   "source": [
    "home.info"
   ]
  },
  {
   "cell_type": "code",
   "execution_count": 59,
   "id": "1ca013b6",
   "metadata": {},
   "outputs": [
    {
     "data": {
      "text/plain": [
       "o    30.25\n",
       "q    68.00\n",
       "w    56.75\n",
       "e    56.50\n",
       "r    58.00\n",
       "t    55.75\n",
       "y    58.75\n",
       "u    69.00\n",
       "h    55.25\n",
       "dtype: float64"
      ]
     },
     "execution_count": 59,
     "metadata": {},
     "output_type": "execute_result"
    }
   ],
   "source": [
    "home.mean()"
   ]
  },
  {
   "cell_type": "code",
   "execution_count": 60,
   "id": "7a45f56b",
   "metadata": {},
   "outputs": [
    {
     "data": {
      "text/plain": [
       "o     9\n",
       "q    62\n",
       "w    14\n",
       "e    17\n",
       "r    21\n",
       "t    14\n",
       "y    32\n",
       "u    41\n",
       "h    26\n",
       "dtype: int64"
      ]
     },
     "execution_count": 60,
     "metadata": {},
     "output_type": "execute_result"
    }
   ],
   "source": [
    "home.min()"
   ]
  },
  {
   "cell_type": "code",
   "execution_count": 61,
   "id": "4c10ef6e",
   "metadata": {},
   "outputs": [
    {
     "data": {
      "text/plain": [
       "o    28.814059\n",
       "q     7.527727\n",
       "w    39.911360\n",
       "e    30.490436\n",
       "r    38.078866\n",
       "t    31.159536\n",
       "y    20.385861\n",
       "u    18.743888\n",
       "h    29.545163\n",
       "dtype: float64"
      ]
     },
     "execution_count": 61,
     "metadata": {},
     "output_type": "execute_result"
    }
   ],
   "source": [
    "home.std()"
   ]
  },
  {
   "cell_type": "code",
   "execution_count": 62,
   "id": "6bc26148",
   "metadata": {},
   "outputs": [
    {
     "data": {
      "text/plain": [
       "o    70\n",
       "q    79\n",
       "w    96\n",
       "e    82\n",
       "r    97\n",
       "t    88\n",
       "y    77\n",
       "u    80\n",
       "h    88\n",
       "dtype: int64"
      ]
     },
     "execution_count": 62,
     "metadata": {},
     "output_type": "execute_result"
    }
   ],
   "source": [
    "home.max()"
   ]
  },
  {
   "cell_type": "code",
   "execution_count": 63,
   "id": "a5af82a3",
   "metadata": {},
   "outputs": [
    {
     "data": {
      "text/plain": [
       "wish    70\n",
       "ki       9\n",
       "dfa     33\n",
       "win      9\n",
       "Name: o, dtype: int64"
      ]
     },
     "execution_count": 63,
     "metadata": {},
     "output_type": "execute_result"
    }
   ],
   "source": [
    "home['o']"
   ]
  },
  {
   "cell_type": "code",
   "execution_count": 64,
   "id": "48cd7994",
   "metadata": {},
   "outputs": [
    {
     "data": {
      "text/plain": [
       "wish    6160\n",
       "ki       603\n",
       "dfa      462\n",
       "win      486\n",
       "dtype: int64"
      ]
     },
     "execution_count": 64,
     "metadata": {},
     "output_type": "execute_result"
    }
   ],
   "source": [
    "#can do arithmetic \n",
    "home['o']*home['t']"
   ]
  },
  {
   "cell_type": "code",
   "execution_count": 67,
   "id": "0e878006",
   "metadata": {},
   "outputs": [],
   "source": [
    "# can change value\n",
    "home['h']= [4,5,6,7]"
   ]
  },
  {
   "cell_type": "code",
   "execution_count": 68,
   "id": "181bc857",
   "metadata": {},
   "outputs": [
    {
     "data": {
      "text/html": [
       "<div>\n",
       "<style scoped>\n",
       "    .dataframe tbody tr th:only-of-type {\n",
       "        vertical-align: middle;\n",
       "    }\n",
       "\n",
       "    .dataframe tbody tr th {\n",
       "        vertical-align: top;\n",
       "    }\n",
       "\n",
       "    .dataframe thead th {\n",
       "        text-align: right;\n",
       "    }\n",
       "</style>\n",
       "<table border=\"1\" class=\"dataframe\">\n",
       "  <thead>\n",
       "    <tr style=\"text-align: right;\">\n",
       "      <th></th>\n",
       "      <th>o</th>\n",
       "      <th>q</th>\n",
       "      <th>w</th>\n",
       "      <th>e</th>\n",
       "      <th>r</th>\n",
       "      <th>t</th>\n",
       "      <th>y</th>\n",
       "      <th>u</th>\n",
       "      <th>h</th>\n",
       "    </tr>\n",
       "  </thead>\n",
       "  <tbody>\n",
       "    <tr>\n",
       "      <th>wish</th>\n",
       "      <td>70</td>\n",
       "      <td>79</td>\n",
       "      <td>32</td>\n",
       "      <td>17</td>\n",
       "      <td>21</td>\n",
       "      <td>88</td>\n",
       "      <td>77</td>\n",
       "      <td>41</td>\n",
       "      <td>4</td>\n",
       "    </tr>\n",
       "    <tr>\n",
       "      <th>ki</th>\n",
       "      <td>9</td>\n",
       "      <td>65</td>\n",
       "      <td>85</td>\n",
       "      <td>82</td>\n",
       "      <td>97</td>\n",
       "      <td>67</td>\n",
       "      <td>54</td>\n",
       "      <td>76</td>\n",
       "      <td>5</td>\n",
       "    </tr>\n",
       "    <tr>\n",
       "      <th>dfa</th>\n",
       "      <td>33</td>\n",
       "      <td>62</td>\n",
       "      <td>14</td>\n",
       "      <td>48</td>\n",
       "      <td>84</td>\n",
       "      <td>14</td>\n",
       "      <td>72</td>\n",
       "      <td>80</td>\n",
       "      <td>6</td>\n",
       "    </tr>\n",
       "    <tr>\n",
       "      <th>win</th>\n",
       "      <td>9</td>\n",
       "      <td>66</td>\n",
       "      <td>96</td>\n",
       "      <td>79</td>\n",
       "      <td>30</td>\n",
       "      <td>54</td>\n",
       "      <td>32</td>\n",
       "      <td>79</td>\n",
       "      <td>7</td>\n",
       "    </tr>\n",
       "  </tbody>\n",
       "</table>\n",
       "</div>"
      ],
      "text/plain": [
       "       o   q   w   e   r   t   y   u  h\n",
       "wish  70  79  32  17  21  88  77  41  4\n",
       "ki     9  65  85  82  97  67  54  76  5\n",
       "dfa   33  62  14  48  84  14  72  80  6\n",
       "win    9  66  96  79  30  54  32  79  7"
      ]
     },
     "execution_count": 68,
     "metadata": {},
     "output_type": "execute_result"
    }
   ],
   "source": [
    "home #as value as changed"
   ]
  },
  {
   "cell_type": "code",
   "execution_count": 78,
   "id": "da50d9d9",
   "metadata": {},
   "outputs": [],
   "source": [
    "#dropping \n",
    "home=home.drop('y',axis = 1)"
   ]
  },
  {
   "cell_type": "code",
   "execution_count": 79,
   "id": "db1856e6",
   "metadata": {},
   "outputs": [
    {
     "data": {
      "text/html": [
       "<div>\n",
       "<style scoped>\n",
       "    .dataframe tbody tr th:only-of-type {\n",
       "        vertical-align: middle;\n",
       "    }\n",
       "\n",
       "    .dataframe tbody tr th {\n",
       "        vertical-align: top;\n",
       "    }\n",
       "\n",
       "    .dataframe thead th {\n",
       "        text-align: right;\n",
       "    }\n",
       "</style>\n",
       "<table border=\"1\" class=\"dataframe\">\n",
       "  <thead>\n",
       "    <tr style=\"text-align: right;\">\n",
       "      <th></th>\n",
       "      <th>o</th>\n",
       "      <th>q</th>\n",
       "      <th>w</th>\n",
       "      <th>e</th>\n",
       "      <th>r</th>\n",
       "      <th>t</th>\n",
       "      <th>u</th>\n",
       "    </tr>\n",
       "  </thead>\n",
       "  <tbody>\n",
       "    <tr>\n",
       "      <th>wish</th>\n",
       "      <td>70</td>\n",
       "      <td>79</td>\n",
       "      <td>32</td>\n",
       "      <td>17</td>\n",
       "      <td>21</td>\n",
       "      <td>88</td>\n",
       "      <td>41</td>\n",
       "    </tr>\n",
       "    <tr>\n",
       "      <th>ki</th>\n",
       "      <td>9</td>\n",
       "      <td>65</td>\n",
       "      <td>85</td>\n",
       "      <td>82</td>\n",
       "      <td>97</td>\n",
       "      <td>67</td>\n",
       "      <td>76</td>\n",
       "    </tr>\n",
       "    <tr>\n",
       "      <th>dfa</th>\n",
       "      <td>33</td>\n",
       "      <td>62</td>\n",
       "      <td>14</td>\n",
       "      <td>48</td>\n",
       "      <td>84</td>\n",
       "      <td>14</td>\n",
       "      <td>80</td>\n",
       "    </tr>\n",
       "    <tr>\n",
       "      <th>win</th>\n",
       "      <td>9</td>\n",
       "      <td>66</td>\n",
       "      <td>96</td>\n",
       "      <td>79</td>\n",
       "      <td>30</td>\n",
       "      <td>54</td>\n",
       "      <td>79</td>\n",
       "    </tr>\n",
       "  </tbody>\n",
       "</table>\n",
       "</div>"
      ],
      "text/plain": [
       "       o   q   w   e   r   t   u\n",
       "wish  70  79  32  17  21  88  41\n",
       "ki     9  65  85  82  97  67  76\n",
       "dfa   33  62  14  48  84  14  80\n",
       "win    9  66  96  79  30  54  79"
      ]
     },
     "execution_count": 79,
     "metadata": {},
     "output_type": "execute_result"
    }
   ],
   "source": [
    "home# y is gone"
   ]
  },
  {
   "cell_type": "code",
   "execution_count": 81,
   "id": "6dd642b1",
   "metadata": {},
   "outputs": [
    {
     "data": {
      "text/html": [
       "<div>\n",
       "<style scoped>\n",
       "    .dataframe tbody tr th:only-of-type {\n",
       "        vertical-align: middle;\n",
       "    }\n",
       "\n",
       "    .dataframe tbody tr th {\n",
       "        vertical-align: top;\n",
       "    }\n",
       "\n",
       "    .dataframe thead th {\n",
       "        text-align: right;\n",
       "    }\n",
       "</style>\n",
       "<table border=\"1\" class=\"dataframe\">\n",
       "  <thead>\n",
       "    <tr style=\"text-align: right;\">\n",
       "      <th></th>\n",
       "      <th>o</th>\n",
       "      <th>q</th>\n",
       "      <th>w</th>\n",
       "      <th>e</th>\n",
       "      <th>r</th>\n",
       "      <th>t</th>\n",
       "      <th>u</th>\n",
       "    </tr>\n",
       "  </thead>\n",
       "  <tbody>\n",
       "    <tr>\n",
       "      <th>ki</th>\n",
       "      <td>9</td>\n",
       "      <td>65</td>\n",
       "      <td>85</td>\n",
       "      <td>82</td>\n",
       "      <td>97</td>\n",
       "      <td>67</td>\n",
       "      <td>76</td>\n",
       "    </tr>\n",
       "  </tbody>\n",
       "</table>\n",
       "</div>"
      ],
      "text/plain": [
       "    o   q   w   e   r   t   u\n",
       "ki  9  65  85  82  97  67  76"
      ]
     },
     "execution_count": 81,
     "metadata": {},
     "output_type": "execute_result"
    }
   ],
   "source": [
    "# calling the specific columns\n",
    "home[home.index=='ki']"
   ]
  },
  {
   "cell_type": "code",
   "execution_count": 83,
   "id": "7d1b31c8",
   "metadata": {},
   "outputs": [
    {
     "data": {
      "text/html": [
       "<div>\n",
       "<style scoped>\n",
       "    .dataframe tbody tr th:only-of-type {\n",
       "        vertical-align: middle;\n",
       "    }\n",
       "\n",
       "    .dataframe tbody tr th {\n",
       "        vertical-align: top;\n",
       "    }\n",
       "\n",
       "    .dataframe thead th {\n",
       "        text-align: right;\n",
       "    }\n",
       "</style>\n",
       "<table border=\"1\" class=\"dataframe\">\n",
       "  <thead>\n",
       "    <tr style=\"text-align: right;\">\n",
       "      <th></th>\n",
       "      <th>o</th>\n",
       "      <th>q</th>\n",
       "      <th>w</th>\n",
       "      <th>e</th>\n",
       "      <th>r</th>\n",
       "      <th>t</th>\n",
       "      <th>u</th>\n",
       "    </tr>\n",
       "  </thead>\n",
       "  <tbody>\n",
       "    <tr>\n",
       "      <th>count</th>\n",
       "      <td>4.000000</td>\n",
       "      <td>4.000000</td>\n",
       "      <td>4.00000</td>\n",
       "      <td>4.000000</td>\n",
       "      <td>4.000000</td>\n",
       "      <td>4.000000</td>\n",
       "      <td>4.000000</td>\n",
       "    </tr>\n",
       "    <tr>\n",
       "      <th>mean</th>\n",
       "      <td>30.250000</td>\n",
       "      <td>68.000000</td>\n",
       "      <td>56.75000</td>\n",
       "      <td>56.500000</td>\n",
       "      <td>58.000000</td>\n",
       "      <td>55.750000</td>\n",
       "      <td>69.000000</td>\n",
       "    </tr>\n",
       "    <tr>\n",
       "      <th>std</th>\n",
       "      <td>28.814059</td>\n",
       "      <td>7.527727</td>\n",
       "      <td>39.91136</td>\n",
       "      <td>30.490436</td>\n",
       "      <td>38.078866</td>\n",
       "      <td>31.159536</td>\n",
       "      <td>18.743888</td>\n",
       "    </tr>\n",
       "    <tr>\n",
       "      <th>min</th>\n",
       "      <td>9.000000</td>\n",
       "      <td>62.000000</td>\n",
       "      <td>14.00000</td>\n",
       "      <td>17.000000</td>\n",
       "      <td>21.000000</td>\n",
       "      <td>14.000000</td>\n",
       "      <td>41.000000</td>\n",
       "    </tr>\n",
       "    <tr>\n",
       "      <th>25%</th>\n",
       "      <td>9.000000</td>\n",
       "      <td>64.250000</td>\n",
       "      <td>27.50000</td>\n",
       "      <td>40.250000</td>\n",
       "      <td>27.750000</td>\n",
       "      <td>44.000000</td>\n",
       "      <td>67.250000</td>\n",
       "    </tr>\n",
       "    <tr>\n",
       "      <th>50%</th>\n",
       "      <td>21.000000</td>\n",
       "      <td>65.500000</td>\n",
       "      <td>58.50000</td>\n",
       "      <td>63.500000</td>\n",
       "      <td>57.000000</td>\n",
       "      <td>60.500000</td>\n",
       "      <td>77.500000</td>\n",
       "    </tr>\n",
       "    <tr>\n",
       "      <th>75%</th>\n",
       "      <td>42.250000</td>\n",
       "      <td>69.250000</td>\n",
       "      <td>87.75000</td>\n",
       "      <td>79.750000</td>\n",
       "      <td>87.250000</td>\n",
       "      <td>72.250000</td>\n",
       "      <td>79.250000</td>\n",
       "    </tr>\n",
       "    <tr>\n",
       "      <th>max</th>\n",
       "      <td>70.000000</td>\n",
       "      <td>79.000000</td>\n",
       "      <td>96.00000</td>\n",
       "      <td>82.000000</td>\n",
       "      <td>97.000000</td>\n",
       "      <td>88.000000</td>\n",
       "      <td>80.000000</td>\n",
       "    </tr>\n",
       "  </tbody>\n",
       "</table>\n",
       "</div>"
      ],
      "text/plain": [
       "               o          q         w          e          r          t  \\\n",
       "count   4.000000   4.000000   4.00000   4.000000   4.000000   4.000000   \n",
       "mean   30.250000  68.000000  56.75000  56.500000  58.000000  55.750000   \n",
       "std    28.814059   7.527727  39.91136  30.490436  38.078866  31.159536   \n",
       "min     9.000000  62.000000  14.00000  17.000000  21.000000  14.000000   \n",
       "25%     9.000000  64.250000  27.50000  40.250000  27.750000  44.000000   \n",
       "50%    21.000000  65.500000  58.50000  63.500000  57.000000  60.500000   \n",
       "75%    42.250000  69.250000  87.75000  79.750000  87.250000  72.250000   \n",
       "max    70.000000  79.000000  96.00000  82.000000  97.000000  88.000000   \n",
       "\n",
       "               u  \n",
       "count   4.000000  \n",
       "mean   69.000000  \n",
       "std    18.743888  \n",
       "min    41.000000  \n",
       "25%    67.250000  \n",
       "50%    77.500000  \n",
       "75%    79.250000  \n",
       "max    80.000000  "
      ]
     },
     "execution_count": 83,
     "metadata": {},
     "output_type": "execute_result"
    }
   ],
   "source": [
    "# very commonly use \n",
    "home.describe()"
   ]
  },
  {
   "cell_type": "code",
   "execution_count": 98,
   "id": "5f6e8cef",
   "metadata": {},
   "outputs": [
    {
     "data": {
      "text/html": [
       "<div>\n",
       "<style scoped>\n",
       "    .dataframe tbody tr th:only-of-type {\n",
       "        vertical-align: middle;\n",
       "    }\n",
       "\n",
       "    .dataframe tbody tr th {\n",
       "        vertical-align: top;\n",
       "    }\n",
       "\n",
       "    .dataframe thead th {\n",
       "        text-align: right;\n",
       "    }\n",
       "</style>\n",
       "<table border=\"1\" class=\"dataframe\">\n",
       "  <thead>\n",
       "    <tr style=\"text-align: right;\">\n",
       "      <th></th>\n",
       "      <th>o</th>\n",
       "      <th>q</th>\n",
       "      <th>w</th>\n",
       "      <th>e</th>\n",
       "      <th>r</th>\n",
       "      <th>t</th>\n",
       "      <th>u</th>\n",
       "    </tr>\n",
       "  </thead>\n",
       "  <tbody>\n",
       "    <tr>\n",
       "      <th>wish</th>\n",
       "      <td>70</td>\n",
       "      <td>79</td>\n",
       "      <td>32</td>\n",
       "      <td>17</td>\n",
       "      <td>21</td>\n",
       "      <td>88</td>\n",
       "      <td>41</td>\n",
       "    </tr>\n",
       "    <tr>\n",
       "      <th>ki</th>\n",
       "      <td>9</td>\n",
       "      <td>65</td>\n",
       "      <td>85</td>\n",
       "      <td>82</td>\n",
       "      <td>97</td>\n",
       "      <td>67</td>\n",
       "      <td>76</td>\n",
       "    </tr>\n",
       "    <tr>\n",
       "      <th>dfa</th>\n",
       "      <td>33</td>\n",
       "      <td>62</td>\n",
       "      <td>14</td>\n",
       "      <td>48</td>\n",
       "      <td>84</td>\n",
       "      <td>14</td>\n",
       "      <td>80</td>\n",
       "    </tr>\n",
       "    <tr>\n",
       "      <th>win</th>\n",
       "      <td>9</td>\n",
       "      <td>66</td>\n",
       "      <td>96</td>\n",
       "      <td>79</td>\n",
       "      <td>30</td>\n",
       "      <td>54</td>\n",
       "      <td>79</td>\n",
       "    </tr>\n",
       "  </tbody>\n",
       "</table>\n",
       "</div>"
      ],
      "text/plain": [
       "       o   q   w   e   r   t   u\n",
       "wish  70  79  32  17  21  88  41\n",
       "ki     9  65  85  82  97  67  76\n",
       "dfa   33  62  14  48  84  14  80\n",
       "win    9  66  96  79  30  54  79"
      ]
     },
     "execution_count": 98,
     "metadata": {},
     "output_type": "execute_result"
    }
   ],
   "source": [
    "home\n"
   ]
  },
  {
   "cell_type": "code",
   "execution_count": 103,
   "id": "fc608306",
   "metadata": {},
   "outputs": [
    {
     "data": {
      "text/html": [
       "<div>\n",
       "<style scoped>\n",
       "    .dataframe tbody tr th:only-of-type {\n",
       "        vertical-align: middle;\n",
       "    }\n",
       "\n",
       "    .dataframe tbody tr th {\n",
       "        vertical-align: top;\n",
       "    }\n",
       "\n",
       "    .dataframe thead th {\n",
       "        text-align: right;\n",
       "    }\n",
       "</style>\n",
       "<table border=\"1\" class=\"dataframe\">\n",
       "  <thead>\n",
       "    <tr style=\"text-align: right;\">\n",
       "      <th></th>\n",
       "      <th>o</th>\n",
       "      <th>q</th>\n",
       "      <th>w</th>\n",
       "      <th>e</th>\n",
       "      <th>r</th>\n",
       "      <th>t</th>\n",
       "      <th>u</th>\n",
       "    </tr>\n",
       "  </thead>\n",
       "  <tbody>\n",
       "    <tr>\n",
       "      <th>wish</th>\n",
       "      <td>19</td>\n",
       "      <td>89</td>\n",
       "      <td>64</td>\n",
       "      <td>38</td>\n",
       "      <td>59</td>\n",
       "      <td>57</td>\n",
       "      <td>39</td>\n",
       "    </tr>\n",
       "    <tr>\n",
       "      <th>ki</th>\n",
       "      <td>70</td>\n",
       "      <td>5</td>\n",
       "      <td>27</td>\n",
       "      <td>81</td>\n",
       "      <td>46</td>\n",
       "      <td>42</td>\n",
       "      <td>40</td>\n",
       "    </tr>\n",
       "    <tr>\n",
       "      <th>dfa</th>\n",
       "      <td>10</td>\n",
       "      <td>61</td>\n",
       "      <td>83</td>\n",
       "      <td>24</td>\n",
       "      <td>90</td>\n",
       "      <td>24</td>\n",
       "      <td>76</td>\n",
       "    </tr>\n",
       "    <tr>\n",
       "      <th>win</th>\n",
       "      <td>81</td>\n",
       "      <td>84</td>\n",
       "      <td>26</td>\n",
       "      <td>7</td>\n",
       "      <td>50</td>\n",
       "      <td>17</td>\n",
       "      <td>54</td>\n",
       "    </tr>\n",
       "  </tbody>\n",
       "</table>\n",
       "</div>"
      ],
      "text/plain": [
       "       o   q   w   e   r   t   u\n",
       "wish  19  89  64  38  59  57  39\n",
       "ki    70   5  27  81  46  42  40\n",
       "dfa   10  61  83  24  90  24  76\n",
       "win   81  84  26   7  50  17  54"
      ]
     },
     "execution_count": 103,
     "metadata": {},
     "output_type": "execute_result"
    }
   ],
   "source": [
    "k =pd.DataFrame(np.random.randint(1,100,(4,7)),columns=['o','q','w','e','r','t','u'],index=['wish','ki','dfa','win'])\n",
    "k\n",
    "#can concat,merge,appende etc"
   ]
  },
  {
   "cell_type": "code",
   "execution_count": 104,
   "id": "af86db6f",
   "metadata": {},
   "outputs": [
    {
     "data": {
      "text/html": [
       "<div>\n",
       "<style scoped>\n",
       "    .dataframe tbody tr th:only-of-type {\n",
       "        vertical-align: middle;\n",
       "    }\n",
       "\n",
       "    .dataframe tbody tr th {\n",
       "        vertical-align: top;\n",
       "    }\n",
       "\n",
       "    .dataframe thead th {\n",
       "        text-align: right;\n",
       "    }\n",
       "</style>\n",
       "<table border=\"1\" class=\"dataframe\">\n",
       "  <thead>\n",
       "    <tr style=\"text-align: right;\">\n",
       "      <th></th>\n",
       "      <th>o_x</th>\n",
       "      <th>q_x</th>\n",
       "      <th>w_x</th>\n",
       "      <th>e_x</th>\n",
       "      <th>r_x</th>\n",
       "      <th>t_x</th>\n",
       "      <th>u_x</th>\n",
       "      <th>o_y</th>\n",
       "      <th>q_y</th>\n",
       "      <th>w_y</th>\n",
       "      <th>e_y</th>\n",
       "      <th>r_y</th>\n",
       "      <th>t_y</th>\n",
       "      <th>u_y</th>\n",
       "    </tr>\n",
       "  </thead>\n",
       "  <tbody>\n",
       "    <tr>\n",
       "      <th>wish</th>\n",
       "      <td>19</td>\n",
       "      <td>89</td>\n",
       "      <td>64</td>\n",
       "      <td>38</td>\n",
       "      <td>59</td>\n",
       "      <td>57</td>\n",
       "      <td>39</td>\n",
       "      <td>70</td>\n",
       "      <td>79</td>\n",
       "      <td>32</td>\n",
       "      <td>17</td>\n",
       "      <td>21</td>\n",
       "      <td>88</td>\n",
       "      <td>41</td>\n",
       "    </tr>\n",
       "    <tr>\n",
       "      <th>ki</th>\n",
       "      <td>70</td>\n",
       "      <td>5</td>\n",
       "      <td>27</td>\n",
       "      <td>81</td>\n",
       "      <td>46</td>\n",
       "      <td>42</td>\n",
       "      <td>40</td>\n",
       "      <td>9</td>\n",
       "      <td>65</td>\n",
       "      <td>85</td>\n",
       "      <td>82</td>\n",
       "      <td>97</td>\n",
       "      <td>67</td>\n",
       "      <td>76</td>\n",
       "    </tr>\n",
       "    <tr>\n",
       "      <th>dfa</th>\n",
       "      <td>10</td>\n",
       "      <td>61</td>\n",
       "      <td>83</td>\n",
       "      <td>24</td>\n",
       "      <td>90</td>\n",
       "      <td>24</td>\n",
       "      <td>76</td>\n",
       "      <td>33</td>\n",
       "      <td>62</td>\n",
       "      <td>14</td>\n",
       "      <td>48</td>\n",
       "      <td>84</td>\n",
       "      <td>14</td>\n",
       "      <td>80</td>\n",
       "    </tr>\n",
       "    <tr>\n",
       "      <th>win</th>\n",
       "      <td>81</td>\n",
       "      <td>84</td>\n",
       "      <td>26</td>\n",
       "      <td>7</td>\n",
       "      <td>50</td>\n",
       "      <td>17</td>\n",
       "      <td>54</td>\n",
       "      <td>9</td>\n",
       "      <td>66</td>\n",
       "      <td>96</td>\n",
       "      <td>79</td>\n",
       "      <td>30</td>\n",
       "      <td>54</td>\n",
       "      <td>79</td>\n",
       "    </tr>\n",
       "  </tbody>\n",
       "</table>\n",
       "</div>"
      ],
      "text/plain": [
       "      o_x  q_x  w_x  e_x  r_x  t_x  u_x  o_y  q_y  w_y  e_y  r_y  t_y  u_y\n",
       "wish   19   89   64   38   59   57   39   70   79   32   17   21   88   41\n",
       "ki     70    5   27   81   46   42   40    9   65   85   82   97   67   76\n",
       "dfa    10   61   83   24   90   24   76   33   62   14   48   84   14   80\n",
       "win    81   84   26    7   50   17   54    9   66   96   79   30   54   79"
      ]
     },
     "execution_count": 104,
     "metadata": {},
     "output_type": "execute_result"
    }
   ],
   "source": [
    "pd.merge(k,home,left_index=True,right_index=True)"
   ]
  },
  {
   "cell_type": "code",
   "execution_count": 105,
   "id": "e83fa49a",
   "metadata": {},
   "outputs": [
    {
     "data": {
      "text/html": [
       "<div>\n",
       "<style scoped>\n",
       "    .dataframe tbody tr th:only-of-type {\n",
       "        vertical-align: middle;\n",
       "    }\n",
       "\n",
       "    .dataframe tbody tr th {\n",
       "        vertical-align: top;\n",
       "    }\n",
       "\n",
       "    .dataframe thead th {\n",
       "        text-align: right;\n",
       "    }\n",
       "</style>\n",
       "<table border=\"1\" class=\"dataframe\">\n",
       "  <thead>\n",
       "    <tr style=\"text-align: right;\">\n",
       "      <th></th>\n",
       "      <th>o</th>\n",
       "      <th>q</th>\n",
       "      <th>w</th>\n",
       "      <th>e</th>\n",
       "      <th>r</th>\n",
       "      <th>t</th>\n",
       "      <th>u</th>\n",
       "    </tr>\n",
       "  </thead>\n",
       "  <tbody>\n",
       "    <tr>\n",
       "      <th>wish</th>\n",
       "      <td>19</td>\n",
       "      <td>89</td>\n",
       "      <td>64</td>\n",
       "      <td>38</td>\n",
       "      <td>59</td>\n",
       "      <td>57</td>\n",
       "      <td>39</td>\n",
       "    </tr>\n",
       "    <tr>\n",
       "      <th>ki</th>\n",
       "      <td>70</td>\n",
       "      <td>5</td>\n",
       "      <td>27</td>\n",
       "      <td>81</td>\n",
       "      <td>46</td>\n",
       "      <td>42</td>\n",
       "      <td>40</td>\n",
       "    </tr>\n",
       "    <tr>\n",
       "      <th>dfa</th>\n",
       "      <td>10</td>\n",
       "      <td>61</td>\n",
       "      <td>83</td>\n",
       "      <td>24</td>\n",
       "      <td>90</td>\n",
       "      <td>24</td>\n",
       "      <td>76</td>\n",
       "    </tr>\n",
       "    <tr>\n",
       "      <th>win</th>\n",
       "      <td>81</td>\n",
       "      <td>84</td>\n",
       "      <td>26</td>\n",
       "      <td>7</td>\n",
       "      <td>50</td>\n",
       "      <td>17</td>\n",
       "      <td>54</td>\n",
       "    </tr>\n",
       "    <tr>\n",
       "      <th>wish</th>\n",
       "      <td>70</td>\n",
       "      <td>79</td>\n",
       "      <td>32</td>\n",
       "      <td>17</td>\n",
       "      <td>21</td>\n",
       "      <td>88</td>\n",
       "      <td>41</td>\n",
       "    </tr>\n",
       "    <tr>\n",
       "      <th>ki</th>\n",
       "      <td>9</td>\n",
       "      <td>65</td>\n",
       "      <td>85</td>\n",
       "      <td>82</td>\n",
       "      <td>97</td>\n",
       "      <td>67</td>\n",
       "      <td>76</td>\n",
       "    </tr>\n",
       "    <tr>\n",
       "      <th>dfa</th>\n",
       "      <td>33</td>\n",
       "      <td>62</td>\n",
       "      <td>14</td>\n",
       "      <td>48</td>\n",
       "      <td>84</td>\n",
       "      <td>14</td>\n",
       "      <td>80</td>\n",
       "    </tr>\n",
       "    <tr>\n",
       "      <th>win</th>\n",
       "      <td>9</td>\n",
       "      <td>66</td>\n",
       "      <td>96</td>\n",
       "      <td>79</td>\n",
       "      <td>30</td>\n",
       "      <td>54</td>\n",
       "      <td>79</td>\n",
       "    </tr>\n",
       "  </tbody>\n",
       "</table>\n",
       "</div>"
      ],
      "text/plain": [
       "       o   q   w   e   r   t   u\n",
       "wish  19  89  64  38  59  57  39\n",
       "ki    70   5  27  81  46  42  40\n",
       "dfa   10  61  83  24  90  24  76\n",
       "win   81  84  26   7  50  17  54\n",
       "wish  70  79  32  17  21  88  41\n",
       "ki     9  65  85  82  97  67  76\n",
       "dfa   33  62  14  48  84  14  80\n",
       "win    9  66  96  79  30  54  79"
      ]
     },
     "execution_count": 105,
     "metadata": {},
     "output_type": "execute_result"
    }
   ],
   "source": [
    "pd.concat([k,home])"
   ]
  },
  {
   "cell_type": "code",
   "execution_count": 112,
   "id": "a7fea049",
   "metadata": {},
   "outputs": [
    {
     "data": {
      "text/html": [
       "<div>\n",
       "<style scoped>\n",
       "    .dataframe tbody tr th:only-of-type {\n",
       "        vertical-align: middle;\n",
       "    }\n",
       "\n",
       "    .dataframe tbody tr th {\n",
       "        vertical-align: top;\n",
       "    }\n",
       "\n",
       "    .dataframe thead th {\n",
       "        text-align: right;\n",
       "    }\n",
       "</style>\n",
       "<table border=\"1\" class=\"dataframe\">\n",
       "  <thead>\n",
       "    <tr style=\"text-align: right;\">\n",
       "      <th></th>\n",
       "      <th>A</th>\n",
       "      <th>B</th>\n",
       "    </tr>\n",
       "  </thead>\n",
       "  <tbody>\n",
       "    <tr>\n",
       "      <th>0</th>\n",
       "      <td>2</td>\n",
       "      <td>75</td>\n",
       "    </tr>\n",
       "  </tbody>\n",
       "</table>\n",
       "</div>"
      ],
      "text/plain": [
       "   A   B\n",
       "0  2  75"
      ]
     },
     "execution_count": 112,
     "metadata": {},
     "output_type": "execute_result"
    }
   ],
   "source": [
    "o = pd.DataFrame(np.random.randint(1,100,(1,2)),columns=['A','B'])\n",
    "o"
   ]
  },
  {
   "cell_type": "code",
   "execution_count": 110,
   "id": "4891d897",
   "metadata": {},
   "outputs": [],
   "source": [
    "o= o.append({'A':40,'B':50},ignore_index=True)"
   ]
  },
  {
   "cell_type": "code",
   "execution_count": 111,
   "id": "4b93befc",
   "metadata": {},
   "outputs": [
    {
     "data": {
      "text/html": [
       "<div>\n",
       "<style scoped>\n",
       "    .dataframe tbody tr th:only-of-type {\n",
       "        vertical-align: middle;\n",
       "    }\n",
       "\n",
       "    .dataframe tbody tr th {\n",
       "        vertical-align: top;\n",
       "    }\n",
       "\n",
       "    .dataframe thead th {\n",
       "        text-align: right;\n",
       "    }\n",
       "</style>\n",
       "<table border=\"1\" class=\"dataframe\">\n",
       "  <thead>\n",
       "    <tr style=\"text-align: right;\">\n",
       "      <th></th>\n",
       "      <th>A</th>\n",
       "      <th>B</th>\n",
       "    </tr>\n",
       "  </thead>\n",
       "  <tbody>\n",
       "    <tr>\n",
       "      <th>0</th>\n",
       "      <td>60</td>\n",
       "      <td>82</td>\n",
       "    </tr>\n",
       "    <tr>\n",
       "      <th>1</th>\n",
       "      <td>40</td>\n",
       "      <td>50</td>\n",
       "    </tr>\n",
       "  </tbody>\n",
       "</table>\n",
       "</div>"
      ],
      "text/plain": [
       "    A   B\n",
       "0  60  82\n",
       "1  40  50"
      ]
     },
     "execution_count": 111,
     "metadata": {},
     "output_type": "execute_result"
    }
   ],
   "source": [
    "o # as new row is append"
   ]
  },
  {
   "cell_type": "code",
   "execution_count": null,
   "id": "7187a8e4",
   "metadata": {},
   "outputs": [],
   "source": []
  }
 ],
 "metadata": {
  "kernelspec": {
   "display_name": "Python 3 (ipykernel)",
   "language": "python",
   "name": "python3"
  },
  "language_info": {
   "codemirror_mode": {
    "name": "ipython",
    "version": 3
   },
   "file_extension": ".py",
   "mimetype": "text/x-python",
   "name": "python",
   "nbconvert_exporter": "python",
   "pygments_lexer": "ipython3",
   "version": "3.9.7"
  }
 },
 "nbformat": 4,
 "nbformat_minor": 5
}
